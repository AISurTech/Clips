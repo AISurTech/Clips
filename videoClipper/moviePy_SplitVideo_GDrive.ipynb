{
 "cells": [
  {
   "cell_type": "code",
   "execution_count": null,
   "metadata": {
    "id": "asnc518XUZoo"
   },
   "outputs": [],
   "source": [
    "!pip install moviepy -q"
   ]
  },
  {
   "cell_type": "code",
   "execution_count": null,
   "metadata": {
    "colab": {
     "base_uri": "https://localhost:8080/"
    },
    "id": "jU7w7brDUsFX",
    "outputId": "647b8378-60df-4227-f08b-3b9ebb623be5"
   },
   "outputs": [
    {
     "name": "stdout",
     "output_type": "stream",
     "text": [
      "Mounted at /content/drive\n"
     ]
    }
   ],
   "source": [
    "from google.colab import drive\n",
    "drive.mount('/content/drive')"
   ]
  },
  {
   "cell_type": "code",
   "execution_count": null,
   "metadata": {
    "id": "Jpww9kGEUvlQ"
   },
   "outputs": [],
   "source": [
    "#testVideoFile = \"/content/drive/Shareddrives/code/demo1/testVideosDemo1/unlv1Trim1.mp4\"\n",
    "#testVideoFile = \"/content/drive/Shareddrives/code/demo1/testVideosDemo1/unlv1Trim2.mp4\"\n",
    "#testVideoFile = \"/content/drive/Shareddrives/code/demo1/testVideosDemo1/unlv7755.MP4\"\n",
    "\n",
    "testVideoFile = \"/content/drive/Shareddrives/data/UNLVlabdata/July22ActivityFootage/Export_2023-07-23_15_41_46_655/Center Room PTZ 2023-07-22_12_33_45_624.mp4\"\n"
   ]
  },
  {
   "cell_type": "code",
   "execution_count": null,
   "metadata": {
    "id": "Tf2UAWyYSmkg"
   },
   "outputs": [],
   "source": [
    "#!mkdir /content/drive/Shareddrives/data/UNLVlabdata/July22ActivityFootage/centerPTZClips/"
   ]
  },
  {
   "cell_type": "code",
   "execution_count": null,
   "metadata": {
    "colab": {
     "background_save": true,
     "base_uri": "https://localhost:8080/"
    },
    "id": "EeKq0oxtUM8-",
    "outputId": "440f1948-a460-418b-e004-5983ab523d19"
   },
   "outputs": [
    {
     "name": "stdout",
     "output_type": "stream",
     "text": [
      "Moviepy - Building video /content/drive/Shareddrives/data/UNLVlabdata/July22ActivityFootage/centerPTZClips/centerPTZclip1.mp4.\n",
      "Moviepy - Writing video /content/drive/Shareddrives/data/UNLVlabdata/July22ActivityFootage/centerPTZClips/centerPTZclip1.mp4\n",
      "\n"
     ]
    },
    {
     "name": "stderr",
     "output_type": "stream",
     "text": []
    },
    {
     "name": "stdout",
     "output_type": "stream",
     "text": [
      "Moviepy - Done !\n",
      "Moviepy - video ready /content/drive/Shareddrives/data/UNLVlabdata/July22ActivityFootage/centerPTZClips/centerPTZclip1.mp4\n",
      "SUCCESS - clipped at interval1\n",
      "Moviepy - Building video /content/drive/Shareddrives/data/UNLVlabdata/July22ActivityFootage/centerPTZClips/centerPTZclip2.mp4.\n",
      "Moviepy - Writing video /content/drive/Shareddrives/data/UNLVlabdata/July22ActivityFootage/centerPTZClips/centerPTZclip2.mp4\n",
      "\n"
     ]
    },
    {
     "name": "stderr",
     "output_type": "stream",
     "text": [
      "                                                                "
     ]
    },
    {
     "name": "stdout",
     "output_type": "stream",
     "text": [
      "Nothing left to clip at interval2\n"
     ]
    },
    {
     "name": "stderr",
     "output_type": "stream",
     "text": [
      "\r"
     ]
    },
    {
     "name": "stdout",
     "output_type": "stream",
     "text": [
      "Moviepy - Building video /content/drive/Shareddrives/data/UNLVlabdata/July22ActivityFootage/centerPTZClips/centerPTZclip3.mp4.\n",
      "Moviepy - Writing video /content/drive/Shareddrives/data/UNLVlabdata/July22ActivityFootage/centerPTZClips/centerPTZclip3.mp4\n",
      "\n"
     ]
    },
    {
     "name": "stderr",
     "output_type": "stream",
     "text": [
      "t:   1%|          | 39/5400 [00:01<02:43, 32.80it/s, now=None]"
     ]
    }
   ],
   "source": [
    "# Import everything needed to edit video clips\n",
    "from moviepy.editor import *\n",
    "\n",
    "# loading video dsa gfg intro video\n",
    "clip = VideoFileClip(testVideoFile)\n",
    "\n",
    "'''\n",
    "for i in range(1,10):\n",
    "  clip = clip.subclip(1*i, 61*i)\n",
    "  clip.write_videofile(f\"centerPTZclip{i}.mp4\")\n",
    "  print(f\"SUCCESS - clipped at interval{i}\")\n",
    "'''\n",
    "\n",
    "for i in range(1,300):\n",
    "  try:\n",
    "    clip = clip.subclip(1*i, 61*i)\n",
    "\n",
    "    clip.write_videofile(f\"/content/drive/Shareddrives/data/UNLVlabdata/July22ActivityFootage/centerPTZClips/centerPTZclip{i}.mp4\")\n",
    "    print(f\"SUCCESS - clipped at interval{i}\")\n",
    "  except:\n",
    "    print(f\"Nothing left to clip at interval{i}\")\n"
   ]
  }
 ],
 "metadata": {
  "colab": {
   "provenance": []
  },
  "kernelspec": {
   "display_name": "Python 3 (ipykernel)",
   "language": "python",
   "name": "python3"
  },
  "language_info": {
   "codemirror_mode": {
    "name": "ipython",
    "version": 3
   },
   "file_extension": ".py",
   "mimetype": "text/x-python",
   "name": "python",
   "nbconvert_exporter": "python",
   "pygments_lexer": "ipython3",
   "version": "3.11.1"
  }
 },
 "nbformat": 4,
 "nbformat_minor": 4
}
