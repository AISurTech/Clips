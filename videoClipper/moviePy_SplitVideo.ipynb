{
 "cells": [
  {
   "cell_type": "code",
   "execution_count": null,
   "metadata": {
    "id": "asnc518XUZoo"
   },
   "outputs": [],
   "source": [
    "!pip install moviepy -q"
   ]
  },
  {
   "cell_type": "markdown",
   "metadata": {},
   "source": [
    "equalRangeClipping will generate equal interval subclips so for settings equalRangeClipping(rangeMin=1, rangeMax=100, clipDuration=60) it will generate 100 clips of 60 seconds each\n",
    "\n",
    "For clippingFromListOfTimes(timeList, startsAtZeroSeconds=True, outName=\"\"), all timeList elements need to be integers representing the number of seconds into the video \n",
    "\n",
    "We use unixTimestamp to keep tack of groups of generated clips, hence we generate this timestamp string before running the loop"
   ]
  },
  {
   "cell_type": "code",
   "execution_count": null,
   "metadata": {
    "colab": {
     "background_save": true,
     "base_uri": "https://localhost:8080/"
    },
    "id": "EeKq0oxtUM8-",
    "outputId": "440f1948-a460-418b-e004-5983ab523d19"
   },
   "outputs": [],
   "source": [
    "from moviePy_SplitVideo import *\n",
    "\n",
    "#example\n",
    "videoFile2clip = \"fight1.mp4\" \n",
    "timeListTest = [0,5,65,125]\n",
    "\n",
    "clippingFromListOfTimes(\n",
    "    videoFilePath=videoFile2clip, \n",
    "    timeList=timeListTest, \n",
    "    startsAtZeroSeconds=True, \n",
    "    outName=\"fight1example\"\n",
    "    )"
   ]
  }
 ],
 "metadata": {
  "colab": {
   "provenance": []
  },
  "kernelspec": {
   "display_name": "Python 3 (ipykernel)",
   "language": "python",
   "name": "python3"
  },
  "language_info": {
   "codemirror_mode": {
    "name": "ipython",
    "version": 3
   },
   "file_extension": ".py",
   "mimetype": "text/x-python",
   "name": "python",
   "nbconvert_exporter": "python",
   "pygments_lexer": "ipython3",
   "version": "3.11.1"
  }
 },
 "nbformat": 4,
 "nbformat_minor": 4
}
